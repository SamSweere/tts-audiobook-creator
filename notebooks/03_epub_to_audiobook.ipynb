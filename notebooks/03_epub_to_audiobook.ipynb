{
 "cells": [
  {
   "cell_type": "code",
   "execution_count": null,
   "metadata": {},
   "outputs": [],
   "source": [
    "from pathlib import Path\n",
    "\n",
    "from tts_audiobook_creator.epub_to_text import epub_to_raw_text_book"
   ]
  },
  {
   "cell_type": "code",
   "execution_count": null,
   "metadata": {},
   "outputs": [],
   "source": [
    "data_dir = Path.cwd().parent / \"data\"\n",
    "sample_data_dir = Path.cwd().parent / \"sample_data\"\n",
    "voices_dir = sample_data_dir / \"voices\"\n",
    "print(data_dir)\n",
    "\n",
    "# For coqui this has to be a wav file\n",
    "speaker_path = sample_data_dir / \"voices\" / \"female_1.wav\"\n",
    "\n",
    "output_dir = data_dir / \"output\"\n",
    "\n",
    "if not output_dir.exists():\n",
    "    output_dir.mkdir()"
   ]
  },
  {
   "cell_type": "code",
   "execution_count": null,
   "metadata": {},
   "outputs": [],
   "source": [
    "epub_path = sample_data_dir / \"Meditations_Marcus_Aurelius.epub\""
   ]
  },
  {
   "cell_type": "code",
   "execution_count": null,
   "metadata": {},
   "outputs": [],
   "source": [
    "book = epub_to_raw_text_book(epub_path)\n",
    "chapters = book[\"chapters\"]\n",
    "print(f\"Number of chapters: {len(chapters)}\")"
   ]
  },
  {
   "cell_type": "code",
   "execution_count": null,
   "metadata": {},
   "outputs": [],
   "source": [
    "# Create a directory for the audiobook\n",
    "title = book[\"title\"]\n",
    "audiobook_output_dir = output_dir / title\n",
    "\n",
    "if not audiobook_output_dir.exists():\n",
    "    audiobook_output_dir.mkdir()"
   ]
  },
  {
   "cell_type": "markdown",
   "metadata": {},
   "source": [
    "## Converting the text to audio"
   ]
  },
  {
   "cell_type": "code",
   "execution_count": null,
   "metadata": {},
   "outputs": [],
   "source": [
    "import tqdm\n",
    "\n",
    "from tts_audiobook_creator.tts import AUDIOBOOK_TTS"
   ]
  },
  {
   "cell_type": "code",
   "execution_count": null,
   "metadata": {},
   "outputs": [],
   "source": [
    "TTS = AUDIOBOOK_TTS()"
   ]
  },
  {
   "cell_type": "code",
   "execution_count": null,
   "metadata": {},
   "outputs": [],
   "source": [
    "for chapter in tqdm.tqdm(chapters):\n",
    "    chapter_name = chapter[\"name\"]\n",
    "    print(f\"Generating chapter {chapter_name}\")\n",
    "    chapter_text = chapter[\"text\"]\n",
    "    if chapter_text == \"\":\n",
    "        print(f\"Chapter {chapter_name} is empty, skipping\")\n",
    "        continue\n",
    "\n",
    "    chapter_output_path = audiobook_output_dir / f\"{chapter_name}.wav\"\n",
    "\n",
    "    # Check if the chapter has already been generated if so skip it\n",
    "    if chapter_output_path.exists():\n",
    "        print(f\"Chapter {chapter_name} already exists, skipping\")\n",
    "        continue\n",
    "\n",
    "    TTS.speak(\n",
    "        text=chapter_text,\n",
    "        output_path=chapter_output_path,\n",
    "        speaker_path=speaker_path,\n",
    "        language=\"en\",\n",
    "    )\n",
    "    print(f\"Chapter {chapter_name} saved to {chapter_output_path}\")"
   ]
  },
  {
   "cell_type": "code",
   "execution_count": null,
   "metadata": {},
   "outputs": [],
   "source": []
  }
 ],
 "metadata": {
  "kernelspec": {
   "display_name": "audiobook_tts",
   "language": "python",
   "name": "python3"
  },
  "language_info": {
   "codemirror_mode": {
    "name": "ipython",
    "version": 3
   },
   "file_extension": ".py",
   "mimetype": "text/x-python",
   "name": "python",
   "nbconvert_exporter": "python",
   "pygments_lexer": "ipython3",
   "version": "3.11.8"
  }
 },
 "nbformat": 4,
 "nbformat_minor": 2
}
