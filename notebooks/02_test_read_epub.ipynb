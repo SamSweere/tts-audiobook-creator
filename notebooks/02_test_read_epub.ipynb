{
 "cells": [
  {
   "cell_type": "markdown",
   "metadata": {},
   "source": [
    "Documentation: http://docs.sourcefabric.org/projects/ebooklib/en/latest/tutorial.html#introduction"
   ]
  },
  {
   "cell_type": "code",
   "execution_count": null,
   "metadata": {},
   "outputs": [],
   "source": [
    "import ebooklib\n",
    "from ebooklib import epub\n",
    "\n",
    "# book = epub.read_epub(\"../data/epub/test_book.epub\")\n",
    "\n",
    "book = epub.read_epub(\"../sample_data/Meditations_Marcus_Aurelius.epub\")"
   ]
  },
  {
   "cell_type": "code",
   "execution_count": null,
   "metadata": {},
   "outputs": [],
   "source": [
    "book"
   ]
  },
  {
   "cell_type": "code",
   "execution_count": null,
   "metadata": {},
   "outputs": [],
   "source": [
    "print(book.get_metadata(\"DC\", \"title\"))\n",
    "print(book.get_metadata(\"DC\", \"creator\")[0][0])"
   ]
  },
  {
   "cell_type": "code",
   "execution_count": null,
   "metadata": {},
   "outputs": [],
   "source": [
    "index = book.get_item_with_href(\"index.xhtml\")"
   ]
  },
  {
   "cell_type": "code",
   "execution_count": null,
   "metadata": {},
   "outputs": [],
   "source": [
    "all_items = book.get_items()"
   ]
  },
  {
   "cell_type": "code",
   "execution_count": null,
   "metadata": {},
   "outputs": [],
   "source": [
    "counter = 0\n",
    "for item in book.get_items():\n",
    "    if item.get_type() == ebooklib.ITEM_DOCUMENT:\n",
    "        print(\"==================================\")\n",
    "        print(\"NAME : \", item.get_name())\n",
    "        print(\"----------------------------------\")\n",
    "        print(item.get_content())\n",
    "        print(\"==================================\")\n",
    "        counter += 1\n",
    "\n",
    "        # if counter == 4:\n",
    "        #     break"
   ]
  },
  {
   "cell_type": "code",
   "execution_count": null,
   "metadata": {},
   "outputs": [],
   "source": [
    "index = book.get_item_with_href(\"200189925117419758_2680-h-0.htm.xhtml\")\n",
    "print(index)"
   ]
  },
  {
   "cell_type": "code",
   "execution_count": null,
   "metadata": {},
   "outputs": [],
   "source": [
    "index.get_body_content()"
   ]
  },
  {
   "cell_type": "code",
   "execution_count": null,
   "metadata": {},
   "outputs": [],
   "source": [
    "from bs4 import BeautifulSoup\n",
    "\n",
    "# Sample XHTML content, replace this with your actual content\n",
    "xhtml_content = index.get_body_content()"
   ]
  },
  {
   "cell_type": "code",
   "execution_count": null,
   "metadata": {},
   "outputs": [],
   "source": []
  },
  {
   "cell_type": "code",
   "execution_count": null,
   "metadata": {},
   "outputs": [],
   "source": [
    "# Decode bytes to string and parse with BeautifulSoup\n",
    "soup = BeautifulSoup(xhtml_content.decode(\"utf-8\"), \"lxml\")"
   ]
  },
  {
   "cell_type": "code",
   "execution_count": null,
   "metadata": {},
   "outputs": [],
   "source": [
    "# Extract text from the parsed HTML/XHTML content\n",
    "plain_text = soup.get_text(separator=\"\\n\", strip=True)\n",
    "\n",
    "print(plain_text.strip())"
   ]
  },
  {
   "cell_type": "code",
   "execution_count": null,
   "metadata": {},
   "outputs": [],
   "source": [
    "def clean_html_content(element):\n",
    "    \"\"\"\n",
    "    Recursively convert an HTML element to plain text with minimal newlines,\n",
    "    adding newlines only after block-level elements.\n",
    "    \"\"\"\n",
    "    text_parts = []\n",
    "    if element.name in [\"p\", \"h1\", \"h2\", \"h3\", \"h4\", \"h5\", \"h6\", \"div\", \"li\"]:\n",
    "        # Block-level elements that should have newlines before and after\n",
    "        text_parts.append(\"\\n\")  # Add newline before the block element\n",
    "        if element.string:\n",
    "            text_parts.append(element.string)\n",
    "        else:\n",
    "            for content in element.contents:\n",
    "                text_parts.append(clean_html_content(content))\n",
    "        text_parts.append(\"\\n\")  # Add newline after the block element\n",
    "    elif element.name in [\"br\", \"hr\"]:\n",
    "        # Elements that represent breaks\n",
    "        text_parts.append(\"\\n\")\n",
    "    elif element.name is None:\n",
    "        # NavigableString or similar\n",
    "        text_parts.append(element.strip())\n",
    "    else:\n",
    "        # Inline elements or elements whose content should be directly concatenated\n",
    "        if element.string:\n",
    "            text_parts.append(element.string.strip())\n",
    "        else:\n",
    "            for content in element.contents:\n",
    "                text_parts.append(clean_html_content(content))\n",
    "    return \"\".join(text_parts)\n",
    "\n",
    "\n",
    "# Now using the custom function to clean the HTML content\n",
    "cleaned_text = clean_html_content(soup)\n",
    "print(cleaned_text.strip())"
   ]
  },
  {
   "cell_type": "code",
   "execution_count": null,
   "metadata": {},
   "outputs": [],
   "source": []
  },
  {
   "cell_type": "code",
   "execution_count": null,
   "metadata": {},
   "outputs": [],
   "source": []
  },
  {
   "cell_type": "code",
   "execution_count": null,
   "metadata": {},
   "outputs": [],
   "source": [
    "import nltk\n",
    "from nltk.tokenize import sent_tokenize\n",
    "\n",
    "nltk.download(\"punkt\")  # Ensure the punkt tokenizer is available\n",
    "\n",
    "\n",
    "def insert_periods_at_splits(text, max_length=250):\n",
    "    \"\"\"Modify text by inserting periods at splits for long sentences, without adding extra periods before newlines.\"\"\"\n",
    "    paragraphs = text.split(\"\\n\")\n",
    "    modified_paragraphs = []\n",
    "\n",
    "    for paragraph in paragraphs:\n",
    "        sentences = sent_tokenize(paragraph)\n",
    "        modified_sentences = []\n",
    "        for sentence in sentences:\n",
    "            if len(sentence) > max_length:\n",
    "                # Recursively split long sentences and insert periods, ensuring proper punctuation\n",
    "                sentence = split_and_insert_period(sentence, max_length)\n",
    "            elif not sentence.endswith(\".\"):\n",
    "                sentence += \".\"\n",
    "            modified_sentences.append(sentence)\n",
    "        # Join the modified sentences, taking care not to add a period if the paragraph was empty\n",
    "        modified_paragraphs.append(\" \".join(modified_sentences))\n",
    "\n",
    "    # Join the modified paragraphs with newlines, preserving original newline positions\n",
    "    return \"\\n\".join(modified_paragraphs)\n",
    "\n",
    "\n",
    "def split_and_insert_period(sentence, max_length):\n",
    "    \"\"\"Recursively split a sentence and insert periods, ensuring proper punctuation.\"\"\"\n",
    "    if len(sentence) <= max_length:\n",
    "        return sentence if sentence.endswith(\".\") else sentence + \".\"\n",
    "    else:\n",
    "        # Attempt to split at a comma or space within the max_length limit\n",
    "        split_point = sentence.rfind(\",\", 0, max_length)\n",
    "        if split_point == -1:  # No comma found, use space as a fallback\n",
    "            split_point = sentence.rfind(\" \", 0, max_length)\n",
    "        if split_point == -1 or split_point == 0:  # No suitable split point found, or it's at the start\n",
    "            split_point = max_length\n",
    "        part1 = sentence[:split_point].strip()\n",
    "        part2 = sentence[split_point + 1 :].strip() if sentence[split_point] == \",\" else sentence[split_point:].strip()\n",
    "\n",
    "        # Replace a comma with a period if it's the split point, and ensure part1 ends with a period\n",
    "        part1 = (part1[:-1] if part1.endswith(\",\") else part1) + \".\"\n",
    "        # Recursively process part2\n",
    "        part2_processed = split_and_insert_period(part2, max_length)\n",
    "        return part1 + (\"\" if part2_processed == \".\" else \" \" + part2_processed)\n",
    "\n",
    "\n",
    "# Example text demonstrating newlines\n",
    "text = \"This is a short sentence. However, this is a much longer sentence that is deliberately designed to exceed the two hundred and fifty character limit that we've set for sentences in this example, potentially at a comma or another suitable point.\\nAnother short sentence. This next part of the text also includes a long sentence that should be split accordingly to ensure that it does not exceed the character limit imposed by our criteria.\"\n",
    "\n",
    "# Process the text\n",
    "modified_text = insert_periods_at_splits(text, max_length=50)\n",
    "\n",
    "print(modified_text)"
   ]
  },
  {
   "cell_type": "code",
   "execution_count": null,
   "metadata": {},
   "outputs": [],
   "source": [
    "# # Split the text\n",
    "# split_sentences = split_text_into_sentences(text, max_length=50)\n",
    "# print(split_sentences)"
   ]
  },
  {
   "cell_type": "code",
   "execution_count": null,
   "metadata": {},
   "outputs": [],
   "source": []
  }
 ],
 "metadata": {
  "kernelspec": {
   "display_name": "audiobook_tts",
   "language": "python",
   "name": "python3"
  },
  "language_info": {
   "codemirror_mode": {
    "name": "ipython",
    "version": 3
   },
   "file_extension": ".py",
   "mimetype": "text/x-python",
   "name": "python",
   "nbconvert_exporter": "python",
   "pygments_lexer": "ipython3",
   "version": "3.11.8"
  }
 },
 "nbformat": 4,
 "nbformat_minor": 2
}
